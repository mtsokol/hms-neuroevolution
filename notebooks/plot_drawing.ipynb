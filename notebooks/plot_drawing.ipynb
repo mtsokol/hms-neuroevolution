{
 "cells": [
  {
   "cell_type": "markdown",
   "id": "adjustable-liver",
   "metadata": {},
   "source": [
    "# Plot generation routines\n",
    "\n",
    "In this notebook you can easily join output plots from multiple experiments for comparison.\n",
    "\n",
    "It can be used by providing path and your output directory name (will look like: `experiment-date--hour`) to `make_plots()` method."
   ]
  },
  {
   "cell_type": "code",
   "execution_count": null,
   "id": "psychological-civilization",
   "metadata": {},
   "outputs": [],
   "source": [
    "visualization_code = ! cat '../implementation/visualization/plotting.py'\n",
    "exec('\\n'.join(visualization_code))"
   ]
  },
  {
   "cell_type": "code",
   "execution_count": null,
   "id": "aging-combining",
   "metadata": {},
   "outputs": [],
   "source": [
    "plt.style.use('seaborn')\n",
    "plt.rcParams['figure.dpi'] = 300\n",
    "plt.rcParams['figure.figsize'] = [10, 7]"
   ]
  },
  {
   "cell_type": "markdown",
   "id": "talented-justice",
   "metadata": {},
   "source": [
    "Output plots can be found at: https://github.com/mtsokol/hms-neuroevolution/tree/master/assets"
   ]
  },
  {
   "cell_type": "markdown",
   "id": "capable-hello",
   "metadata": {},
   "source": [
    "## CartPole"
   ]
  },
  {
   "cell_type": "code",
   "execution_count": null,
   "id": "smaller-water",
   "metadata": {},
   "outputs": [],
   "source": [
    "basePath = '/Users/mateusz/Desktop/final/'\n",
    "name_1 = 'experiment-2021-03-27--12-01'\n",
    "legend = ['SEA - median', 'SEA - std']\n",
    "title = 'CartPole-v0 experiment'\n",
    "save_path = 'cart_pole.png'\n",
    "\n",
    "make_plots([basePath + name_1], legend, title, save_path, solved_at = 200.)"
   ]
  },
  {
   "cell_type": "markdown",
   "id": "fitted-hotel",
   "metadata": {},
   "source": [
    "## LunarLander"
   ]
  },
  {
   "cell_type": "code",
   "execution_count": null,
   "id": "variable-afternoon",
   "metadata": {},
   "outputs": [],
   "source": [
    "basePath = '/Users/mateusz/Desktop/final/'\n",
    "name_1 = 'experiment-2021-03-21--16-44'\n",
    "name_2 = 'experiment-2021-03-21--18-34'\n",
    "legend = ['SEA - median', 'HMS (SEA,SEA) - median', 'SEA - std', 'HMS (SEA,SEA) - std']\n",
    "title = 'LunarLander-v2 experiment'\n",
    "save_path = 'lunar_lander.png'\n",
    "\n",
    "make_plots([basePath + name_1, basePath + name_2], legend, title, save_path, solved_at = 200.)"
   ]
  },
  {
   "cell_type": "markdown",
   "id": "narrow-circumstances",
   "metadata": {},
   "source": [
    "## Atari Frostbite"
   ]
  },
  {
   "cell_type": "code",
   "execution_count": null,
   "id": "massive-trash",
   "metadata": {},
   "outputs": [],
   "source": [
    "basePath = '/Users/mateusz/Desktop/final/'\n",
    "name_1 = 'experiment-2021-03-26--00-05'\n",
    "name_2 = 'experiment-2021-03-28--17-55'\n",
    "legend = ['SEA - median', 'HMS (SEA,SEA) - median', 'SEA - std', 'HMS (SEA,SEA) - std']\n",
    "title = 'Frostbite-v0 experiment'\n",
    "save_path = 'atari_frostbite.png'\n",
    "\n",
    "make_plots([basePath + name_1, basePath + name_2], legend, title, save_path)"
   ]
  },
  {
   "cell_type": "code",
   "execution_count": null,
   "id": "pregnant-technical",
   "metadata": {
    "scrolled": false
   },
   "outputs": [],
   "source": [
    "basePath = '/Users/mateusz/Desktop/final/'\n",
    "name_1 = 'experiment-2021-03-26--00-05'\n",
    "name_2 = 'experiment-2021-03-28--17-55'\n",
    "legend = ['SEA - median', 'HMS (SEA,SEA) - median', 'SEA - std', 'HMS (SEA,SEA) - std']\n",
    "title = 'Frostbite-v0 experiment'\n",
    "save_path = 'atari_frostbite_max.png'\n",
    "\n",
    "make_plots([basePath + name_1, basePath + name_2], legend, title, save_path, show_tops=True)"
   ]
  },
  {
   "cell_type": "markdown",
   "id": "opposite-reason",
   "metadata": {},
   "source": [
    "## Atari Kangaroo"
   ]
  },
  {
   "cell_type": "code",
   "execution_count": null,
   "id": "weird-output",
   "metadata": {
    "scrolled": false
   },
   "outputs": [],
   "source": [
    "basePath = '/Users/mateusz/Downloads/'\n",
    "name_1 = 'experiment-2021-03-30--11-10'\n",
    "name_2 = 'experiment-2021-03-30--02-09'\n",
    "legend = ['SEA - median', 'HMS (SEA,SEA) - median', 'SEA - std', 'HMS (SEA,SEA) - std']\n",
    "title = 'Kangaroo-v0 experiment'\n",
    "save_path = 'atari_kangaroo.png'\n",
    "\n",
    "make_plots([basePath + name_1, basePath + name_2], legend, title, save_path)"
   ]
  },
  {
   "cell_type": "markdown",
   "id": "accepting-asthma",
   "metadata": {},
   "source": [
    "## Atari Zaxxon"
   ]
  },
  {
   "cell_type": "code",
   "execution_count": null,
   "id": "controversial-heritage",
   "metadata": {},
   "outputs": [],
   "source": [
    "basePath = '/Users/mateusz/Downloads/'\n",
    "name_1 = 'experiment-2021-03-31--12-59'\n",
    "name_2 = 'experiment-2021-03-31--00-23'\n",
    "legend = ['SEA - median', 'HMS (SEA,SEA) - median', 'SEA - std', 'HMS (SEA,SEA) - std']\n",
    "title = 'Zaxxon-v0 experiment'\n",
    "save_path = 'atari_zaxxon.png'\n",
    "\n",
    "make_plots([basePath + name_1, basePath + name_2], legend, title, save_path)"
   ]
  }
 ],
 "metadata": {
  "kernelspec": {
   "display_name": "Python 3",
   "language": "python",
   "name": "python3"
  },
  "language_info": {
   "codemirror_mode": {
    "name": "ipython",
    "version": 3
   },
   "file_extension": ".py",
   "mimetype": "text/x-python",
   "name": "python",
   "nbconvert_exporter": "python",
   "pygments_lexer": "ipython3",
   "version": "3.8.8"
  },
  "toc-showmarkdowntxt": false,
  "toc-showtags": false
 },
 "nbformat": 4,
 "nbformat_minor": 5
}

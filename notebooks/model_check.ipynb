{
 "cells": [
  {
   "cell_type": "markdown",
   "id": "pregnant-agenda",
   "metadata": {},
   "source": [
    "# Model evaluation and recording\n",
    "\n",
    "In this notebook you can find routines for model evaluation and episode recording.\n",
    "\n",
    "To evaluate model you need to provide path to it, available within experiments' output directory: `experiment-date--time/epoch-xx/model`. Follow examples below."
   ]
  },
  {
   "cell_type": "code",
   "execution_count": 1,
   "id": "retained-enterprise",
   "metadata": {
    "scrolled": false
   },
   "outputs": [],
   "source": [
    "import numpy as np\n",
    "import tensorflow as tf\n",
    "import gym\n",
    "from celluloid import Camera\n",
    "import matplotlib.pyplot as plt\n",
    "from typing import List, Callable\n",
    "plt.rcParams['figure.facecolor'] = 'xkcd:light grey'\n",
    "plt.rcParams['figure.dpi'] = 200"
   ]
  },
  {
   "cell_type": "code",
   "execution_count": 2,
   "id": "organic-minneapolis",
   "metadata": {},
   "outputs": [],
   "source": [
    "grayscale_code = ! cat '../implementation/environment/__init__.py'\n",
    "exec('\\n'.join(grayscale_code))"
   ]
  },
  {
   "cell_type": "markdown",
   "id": "champion-bahrain",
   "metadata": {},
   "source": [
    "## Available methods\n",
    "\n",
    "- `evaluate_model_with_seeds` to run model with different initial environment conditions\n",
    "- `evaluate_model` evaluates model with seed and offers recording to file"
   ]
  },
  {
   "cell_type": "code",
   "execution_count": 3,
   "id": "amateur-palace",
   "metadata": {},
   "outputs": [],
   "source": [
    "def preprocess(obs):\n",
    "    obs = tf.gather(tf.constant(grayscale_palette), tf.cast(obs, tf.int32))\n",
    "    obs = tf.reduce_max(obs, axis=2)\n",
    "    resized = tf.image.resize(obs, (84, 84))\n",
    "    return resized.numpy()"
   ]
  },
  {
   "cell_type": "code",
   "execution_count": 4,
   "id": "minimal-article",
   "metadata": {},
   "outputs": [],
   "source": [
    "def evaluate_model(env_name: str, seed: int, model_path: str, output_type: str,\n",
    "                   preprocess_func: Callable, recorded: bool = False, max_steps: int = 10000):\n",
    "    env = gym.make(env_name)\n",
    "    model = tf.keras.models.load_model(model_path)\n",
    "    \n",
    "    env.seed(seed)\n",
    "    tf.random.set_seed(seed)\n",
    "    obs = env.reset()\n",
    "    done = False\n",
    "    step_count = 0\n",
    "    reward_sum = 0.\n",
    "    \n",
    "    if recorded:\n",
    "        fig = plt.figure()\n",
    "        camera = Camera(fig)\n",
    "    \n",
    "    while not done and step_count < max_steps:\n",
    "        \n",
    "        if recorded:\n",
    "            image = env.render(mode='rgb_array')\n",
    "            plt.imshow(image)\n",
    "            plt.axis('off')\n",
    "            camera.snap()\n",
    "        \n",
    "        action_logits = model(tf.expand_dims(preprocess_func(obs), 0))\n",
    "        \n",
    "        if output_type == 'categorical':\n",
    "            action = tf.squeeze(tf.random.categorical(action_logits, 1))\n",
    "        elif output_type == 'argmax':\n",
    "            action = tf.math.argmax(action_logits, axis=1)\n",
    "        else:\n",
    "            raise Exception('invalid output type')\n",
    "        \n",
    "        obs, reward, done, _ = env.step(action.numpy())\n",
    "        \n",
    "        reward_sum += reward\n",
    "        step_count += 1\n",
    "    \n",
    "    if recorded:\n",
    "        animation = camera.animate(interval=35)\n",
    "        animation.save(f'{env_name}-{seed}.gif')\n",
    "        \n",
    "    return reward_sum"
   ]
  },
  {
   "cell_type": "code",
   "execution_count": 5,
   "id": "foster-sussex",
   "metadata": {},
   "outputs": [],
   "source": [
    "def evaluate_model_with_seeds(env_name: str, seeds: List[int], model_path: str, output_type: str,\n",
    "                              preprocess_func: Callable, max_steps: int = 10000):\n",
    "    envs = []\n",
    "    obses = []\n",
    "    dones = np.full(len(seeds), False)\n",
    "    count = 0\n",
    "    rewards = np.zeros(len(seeds))\n",
    "    model = tf.keras.models.load_model(model_path)\n",
    "    tf.random.set_seed(seeds[0])\n",
    "    \n",
    "    for seed in seeds:\n",
    "        env = gym.make(env_name)\n",
    "        env.seed(seed)\n",
    "        obs = env.reset()\n",
    "        envs.append(env)\n",
    "        obses.append(obs)\n",
    "\n",
    "    while not np.all(dones) and count < max_steps:\n",
    "        indices = np.where(~dones)[0]\n",
    "        prepr = np.array([preprocess_func(obses[i]) for i in indices])\n",
    "        action_logits = model(prepr)\n",
    "        if output_type == 'categorical':\n",
    "            actions = tf.squeeze(tf.random.categorical(action_logits, 1), axis=1)\n",
    "        elif output_type == 'argmax':\n",
    "            actions = tf.math.argmax(action_logits, axis=1)\n",
    "        else:\n",
    "            raise Exception('invalid output type')\n",
    "        for idx, action in zip(indices, actions):\n",
    "            obs, reward, done, _ = envs[idx].step(action.numpy())\n",
    "            obses[idx] = obs\n",
    "            dones[idx] = done\n",
    "            rewards[idx] += reward\n",
    "        count += 1\n",
    "\n",
    "    return list(zip(seeds, rewards))"
   ]
  },
  {
   "cell_type": "markdown",
   "id": "indoor-durham",
   "metadata": {},
   "source": [
    "## Exemplary evaluations"
   ]
  },
  {
   "cell_type": "markdown",
   "id": "closing-distributor",
   "metadata": {},
   "source": [
    "### CartPole"
   ]
  },
  {
   "cell_type": "code",
   "execution_count": null,
   "id": "european-plumbing",
   "metadata": {},
   "outputs": [],
   "source": [
    "path_to_model = '/Users/mateusz/Desktop/final/experiment-2021-03-27--12-01/checkpoints/epoch-8/model'\n",
    "evaluate_model('CartPole-v0', 1, path_to_model, output_type='categorical', \n",
    "               preprocess_func=lambda x: x, recorded=True)"
   ]
  },
  {
   "cell_type": "markdown",
   "id": "current-portuguese",
   "metadata": {},
   "source": [
    "### LunarLander"
   ]
  },
  {
   "cell_type": "code",
   "execution_count": 7,
   "id": "minor-preview",
   "metadata": {},
   "outputs": [
    {
     "name": "stdout",
     "output_type": "stream",
     "text": [
      "WARNING:tensorflow:No training configuration found in save file, so the model was *not* compiled. Compile it manually.\n"
     ]
    },
    {
     "data": {
      "text/plain": [
       "[(1, -92.28051167735717),\n",
       " (2, -90.26291348313367),\n",
       " (3, -134.5903325338844),\n",
       " (4, -94.92672640957295),\n",
       " (5, -63.34894748122113)]"
      ]
     },
     "execution_count": 7,
     "metadata": {},
     "output_type": "execute_result"
    }
   ],
   "source": [
    "path_to_model = '/Users/mateusz/Desktop/final/experiment-2021-03-21--18-34/checkpoints/epoch-3/model'\n",
    "evaluate_model_with_seeds('LunarLander-v2', [1, 2, 3, 4, 5], path_to_model,\n",
    "                          output_type='categorical', preprocess_func=lambda x: x)"
   ]
  },
  {
   "cell_type": "code",
   "execution_count": 8,
   "id": "egyptian-award",
   "metadata": {},
   "outputs": [
    {
     "name": "stdout",
     "output_type": "stream",
     "text": [
      "WARNING:tensorflow:No training configuration found in save file, so the model was *not* compiled. Compile it manually.\n"
     ]
    },
    {
     "data": {
      "text/plain": [
       "[(1, 257.62723603962627),\n",
       " (2, 232.64767914621999),\n",
       " (3, 265.8042815078428),\n",
       " (4, 259.63988958940837),\n",
       " (5, 269.86749833062277)]"
      ]
     },
     "execution_count": 8,
     "metadata": {},
     "output_type": "execute_result"
    }
   ],
   "source": [
    "path_to_model = '/Users/mateusz/Desktop/final/experiment-2021-03-21--18-34/checkpoints/epoch-31/model'\n",
    "evaluate_model_with_seeds('LunarLander-v2', [1, 2, 3, 4, 5], path_to_model,\n",
    "                          output_type='categorical', preprocess_func=lambda x: x)"
   ]
  },
  {
   "cell_type": "code",
   "execution_count": null,
   "id": "hundred-massage",
   "metadata": {
    "scrolled": false
   },
   "outputs": [],
   "source": [
    "path_to_model = '/Users/mateusz/Desktop/final/experiment-2021-03-21--18-34/checkpoints/epoch-31/model'\n",
    "evaluate_model('LunarLander-v2', 5, path_to_model, output_type='categorical', \n",
    "               preprocess_func=lambda x: x, recorded=True)"
   ]
  },
  {
   "cell_type": "markdown",
   "id": "frozen-cemetery",
   "metadata": {},
   "source": [
    "### Atari Frostbite"
   ]
  },
  {
   "cell_type": "code",
   "execution_count": 10,
   "id": "timely-ethernet",
   "metadata": {},
   "outputs": [
    {
     "name": "stdout",
     "output_type": "stream",
     "text": [
      "WARNING:tensorflow:No training configuration found in save file, so the model was *not* compiled. Compile it manually.\n"
     ]
    },
    {
     "data": {
      "text/plain": [
       "[(6, 1450.0), (7, 3400.0), (8, 2640.0), (9, 2460.0), (10, 2640.0)]"
      ]
     },
     "execution_count": 10,
     "metadata": {},
     "output_type": "execute_result"
    }
   ],
   "source": [
    "path_to_model = '/Users/mateusz/Desktop/final/experiment-2021-03-28--17-55/checkpoints/epoch-56/model'\n",
    "evaluate_model_with_seeds('Frostbite-v0', [6, 7, 8, 9, 10], path_to_model,\n",
    "                          output_type='argmax', preprocess_func=preprocess)"
   ]
  },
  {
   "cell_type": "code",
   "execution_count": 11,
   "id": "awful-lithuania",
   "metadata": {},
   "outputs": [
    {
     "name": "stdout",
     "output_type": "stream",
     "text": [
      "WARNING:tensorflow:No training configuration found in save file, so the model was *not* compiled. Compile it manually.\n"
     ]
    },
    {
     "name": "stderr",
     "output_type": "stream",
     "text": [
      "MovieWriter ffmpeg unavailable; using Pillow instead.\n"
     ]
    },
    {
     "data": {
      "text/plain": [
       "3400.0"
      ]
     },
     "execution_count": 11,
     "metadata": {},
     "output_type": "execute_result"
    },
    {
     "data": {
      "image/png": "[encoded data removed]",
      "text/plain": [
       "<Figure size 1200x800 with 1 Axes>"
      ]
     },
     "metadata": {},
     "output_type": "display_data"
    }
   ],
   "source": [
    "path_to_model = '/Users/mateusz/Desktop/final/experiment-2021-03-28--17-55/checkpoints/epoch-56/model'\n",
    "evaluate_model('Frostbite-v0', 7, path_to_model, output_type='argmax', \n",
    "               preprocess_func=preprocess, recorded=True)"
   ]
  },
  {
   "cell_type": "code",
   "execution_count": 12,
   "id": "ambient-mapping",
   "metadata": {},
   "outputs": [
    {
     "name": "stdout",
     "output_type": "stream",
     "text": [
      "WARNING:tensorflow:No training configuration found in save file, so the model was *not* compiled. Compile it manually.\n"
     ]
    },
    {
     "data": {
      "text/plain": [
       "[(1, 2460.0), (2, 2500.0), (3, 2430.0), (4, 3450.0), (5, 2440.0)]"
      ]
     },
     "execution_count": 12,
     "metadata": {},
     "output_type": "execute_result"
    }
   ],
   "source": [
    "path_to_model = '/Users/mateusz/Desktop/final/experiment-2021-03-28--17-55/checkpoints/epoch-57/model'\n",
    "evaluate_model_with_seeds('Frostbite-v0', [1, 2, 3, 4, 5], path_to_model,\n",
    "                          output_type='argmax', preprocess_func=preprocess)"
   ]
  },
  {
   "cell_type": "code",
   "execution_count": null,
   "id": "severe-offense",
   "metadata": {},
   "outputs": [],
   "source": [
    "path_to_model = '/Users/mateusz/Desktop/final/experiment-2021-03-28--17-55/checkpoints/epoch-57/model'\n",
    "evaluate_model('Frostbite-v0', 4, path_to_model, output_type='argmax', \n",
    "               preprocess_func=preprocess, recorded=True)"
   ]
  },
  {
   "cell_type": "code",
   "execution_count": 14,
   "id": "attended-clearance",
   "metadata": {},
   "outputs": [
    {
     "name": "stdout",
     "output_type": "stream",
     "text": [
      "WARNING:tensorflow:No training configuration found in save file, so the model was *not* compiled. Compile it manually.\n"
     ]
    },
    {
     "data": {
      "text/plain": [
       "[(6, 3140.0), (7, 2510.0), (8, 2810.0), (9, 3100.0), (10, 2430.0)]"
      ]
     },
     "execution_count": 14,
     "metadata": {},
     "output_type": "execute_result"
    }
   ],
   "source": [
    "path_to_model = '/Users/mateusz/Desktop/final/experiment-2021-03-28--17-55/checkpoints/epoch-57/model'\n",
    "evaluate_model_with_seeds('Frostbite-v0', [6,7,8,9,10], path_to_model,\n",
    "                          output_type='argmax', preprocess_func=preprocess)"
   ]
  },
  {
   "cell_type": "code",
   "execution_count": null,
   "id": "bibliographic-humanity",
   "metadata": {
    "scrolled": false
   },
   "outputs": [],
   "source": [
    "path_to_model = '/Users/mateusz/Desktop/final/experiment-2021-03-28--17-55/checkpoints/epoch-57/model'\n",
    "evaluate_model('Frostbite-v0', 6, path_to_model, output_type='argmax', \n",
    "               preprocess_func=preprocess, recorded=True)"
   ]
  },
  {
   "cell_type": "markdown",
   "id": "advance-hudson",
   "metadata": {},
   "source": [
    "### Atari Kangaroo"
   ]
  },
  {
   "cell_type": "code",
   "execution_count": 6,
   "id": "alien-record",
   "metadata": {},
   "outputs": [
    {
     "name": "stdout",
     "output_type": "stream",
     "text": [
      "WARNING:tensorflow:No training configuration found in save file, so the model was *not* compiled. Compile it manually.\n"
     ]
    },
    {
     "data": {
      "text/plain": [
       "[(1, 800.0), (2, 1000.0), (3, 800.0), (4, 1400.0), (5, 600.0)]"
      ]
     },
     "execution_count": 6,
     "metadata": {},
     "output_type": "execute_result"
    }
   ],
   "source": [
    "path_to_model = '/Users/mateusz/Downloads/experiment-2021-03-30--02-09/checkpoints/epoch-37/model'\n",
    "evaluate_model_with_seeds('Kangaroo-v0', [1,2,3,4,5], path_to_model,\n",
    "                          output_type='argmax', preprocess_func=preprocess)"
   ]
  },
  {
   "cell_type": "code",
   "execution_count": null,
   "id": "breeding-conservative",
   "metadata": {},
   "outputs": [],
   "source": [
    "path_to_model = '/Users/mateusz/Downloads/experiment-2021-03-30--02-09/checkpoints/epoch-37/model'\n",
    "evaluate_model('Kangaroo-v0', 4, path_to_model, output_type='argmax', \n",
    "               preprocess_func=preprocess, recorded=True)"
   ]
  },
  {
   "cell_type": "markdown",
   "id": "adverse-opportunity",
   "metadata": {},
   "source": [
    "### Atari Zaxxon"
   ]
  },
  {
   "cell_type": "code",
   "execution_count": 6,
   "id": "acceptable-change",
   "metadata": {},
   "outputs": [
    {
     "name": "stdout",
     "output_type": "stream",
     "text": [
      "WARNING:tensorflow:No training configuration found in save file, so the model was *not* compiled. Compile it manually.\n"
     ]
    },
    {
     "data": {
      "text/plain": [
       "[(1, 3900.0), (2, 2400.0), (3, 4400.0), (4, 3900.0), (5, 2700.0)]"
      ]
     },
     "execution_count": 6,
     "metadata": {},
     "output_type": "execute_result"
    }
   ],
   "source": [
    "path_to_model = '/Users/mateusz/Downloads/experiment-2021-03-31--00-23/checkpoints/epoch-26/model'\n",
    "evaluate_model_with_seeds('Zaxxon-v0', [1,2,3,4,5], path_to_model,\n",
    "                          output_type='argmax', preprocess_func=preprocess)"
   ]
  },
  {
   "cell_type": "code",
   "execution_count": null,
   "id": "religious-council",
   "metadata": {},
   "outputs": [],
   "source": [
    "path_to_model = '/Users/mateusz/Downloads/experiment-2021-03-31--00-23/checkpoints/epoch-26/model'\n",
    "evaluate_model('Zaxxon-v0', 3, path_to_model, output_type='argmax', \n",
    "               preprocess_func=preprocess, recorded=True)"
   ]
  }
 ],
 "metadata": {
  "kernelspec": {
   "display_name": "Python 3",
   "language": "python",
   "name": "python3"
  },
  "language_info": {
   "codemirror_mode": {
    "name": "ipython",
    "version": 3
   },
   "file_extension": ".py",
   "mimetype": "text/x-python",
   "name": "python",
   "nbconvert_exporter": "python",
   "pygments_lexer": "ipython3",
   "version": "3.8.8"
  }
 },
 "nbformat": 4,
 "nbformat_minor": 5
}

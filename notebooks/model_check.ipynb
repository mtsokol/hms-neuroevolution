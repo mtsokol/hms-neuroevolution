{
 "cells": [
  {
   "cell_type": "markdown",
   "id": "pregnant-agenda",
   "metadata": {},
   "source": [
    "# Model evaluation and recording"
   ]
  },
  {
   "cell_type": "code",
   "execution_count": 1,
   "id": "retained-enterprise",
   "metadata": {
    "scrolled": false
   },
   "outputs": [],
   "source": [
    "import numpy as np\n",
    "import tensorflow as tf\n",
    "import gym\n",
    "from celluloid import Camera\n",
    "import matplotlib.pyplot as plt\n",
    "from typing import List, Callable"
   ]
  },
  {
   "cell_type": "code",
   "execution_count": 2,
   "id": "organic-minneapolis",
   "metadata": {},
   "outputs": [],
   "source": [
    "grayscale_code = ! cat '../implementation/environment/__init__.py'\n",
    "exec('\\n'.join(grayscale_code))"
   ]
  },
  {
   "cell_type": "code",
   "execution_count": 6,
   "id": "amateur-palace",
   "metadata": {},
   "outputs": [],
   "source": [
    "def preprocess(obs):\n",
    "    obs = tf.gather(tf.constant(grayscale_palette), tf.cast(obs, tf.int32))\n",
    "    obs = tf.reduce_max(obs, axis=2)\n",
    "    resized = tf.image.resize(obs, (84, 84))\n",
    "    return resized.numpy()"
   ]
  },
  {
   "cell_type": "code",
   "execution_count": 39,
   "id": "minimal-article",
   "metadata": {},
   "outputs": [],
   "source": [
    "def evaluate_model(env_name: str, seed: int, model_path: str, output_type: str,\n",
    "                   preprocess_func: Callable, recorded: bool = False, max_steps: int = 10000):\n",
    "    env = gym.make(env_name)\n",
    "    model = tf.keras.models.load_model(model_path)\n",
    "    \n",
    "    env.seed(seed)\n",
    "    tf.random.set_seed(seed)\n",
    "    obs = env.reset()\n",
    "    done = False\n",
    "    step_count = 0\n",
    "    reward_sum = 0.\n",
    "    \n",
    "    if recorded:\n",
    "        fig = plt.figure()\n",
    "        camera = Camera(fig)\n",
    "    \n",
    "    while not done and step_count < max_steps:\n",
    "        \n",
    "        if recorded:\n",
    "            image = env.render(mode='rgb_array')\n",
    "            plt.imshow(image)\n",
    "            camera.snap()\n",
    "        \n",
    "        action_logits = model(tf.expand_dims(preprocess_func(obs), 0))\n",
    "        \n",
    "        if output_type == 'categorical':\n",
    "            action = tf.squeeze(tf.random.categorical(action_logits, 1))\n",
    "        elif output_type == 'argmax':\n",
    "            action = tf.math.argmax(action_logits, axis=1)\n",
    "        else:\n",
    "            raise Exception('invalid output type')\n",
    "        \n",
    "        obs, reward, done, _ = env.step(action.numpy())\n",
    "        \n",
    "        reward_sum += reward\n",
    "        step_count += 1\n",
    "    \n",
    "    if recorded:\n",
    "        animation = camera.animate(interval=40)\n",
    "        animation.save(f'{env_name}-3.gif')\n",
    "        \n",
    "    return reward_sum"
   ]
  },
  {
   "cell_type": "code",
   "execution_count": 11,
   "id": "hundred-massage",
   "metadata": {},
   "outputs": [
    {
     "name": "stdout",
     "output_type": "stream",
     "text": [
      "WARNING:tensorflow:No training configuration found in save file, so the model was *not* compiled. Compile it manually.\n"
     ]
    },
    {
     "name": "stderr",
     "output_type": "stream",
     "text": [
      "MovieWriter ffmpeg unavailable; using Pillow instead.\n"
     ]
    },
    {
     "data": {
      "text/plain": [
       "253.33713397177993"
      ]
     },
     "execution_count": 11,
     "metadata": {},
     "output_type": "execute_result"
    },
    {
     "data": {
      "image/png": "[encoded data removed]",
      "text/plain": [
       "<Figure size 432x288 with 1 Axes>"
      ]
     },
     "metadata": {
      "needs_background": "light"
     },
     "output_type": "display_data"
    }
   ],
   "source": [
    "evaluate_model('LunarLander-v2', 56, '/Users/mateusz/Downloads/epoch-32/model',\n",
    "               output_type='categorical', preprocess_func=lambda x: x, recorded=True)"
   ]
  },
  {
   "cell_type": "code",
   "execution_count": 10,
   "id": "personalized-malta",
   "metadata": {},
   "outputs": [
    {
     "name": "stdout",
     "output_type": "stream",
     "text": [
      "WARNING:tensorflow:No training configuration found in save file, so the model was *not* compiled. Compile it manually.\n"
     ]
    },
    {
     "data": {
      "text/plain": [
       "253.33713397177993"
      ]
     },
     "execution_count": 10,
     "metadata": {},
     "output_type": "execute_result"
    }
   ],
   "source": [
    "evaluate_model('LunarLander-v2', 56, '/Users/mateusz/Downloads/epoch-32/model',\n",
    "               output_type='categorical', preprocess_func=lambda x: x)"
   ]
  },
  {
   "cell_type": "code",
   "execution_count": 35,
   "id": "severe-offense",
   "metadata": {},
   "outputs": [
    {
     "name": "stdout",
     "output_type": "stream",
     "text": [
      "WARNING:tensorflow:No training configuration found in save file, so the model was *not* compiled. Compile it manually.\n"
     ]
    },
    {
     "name": "stderr",
     "output_type": "stream",
     "text": [
      "MovieWriter ffmpeg unavailable; using Pillow instead.\n"
     ]
    },
    {
     "data": {
      "text/plain": [
       "2980.0"
      ]
     },
     "execution_count": 35,
     "metadata": {},
     "output_type": "execute_result"
    },
    {
     "data": {
      "image/png": "[encoded data removed]",
      "text/plain": [
       "<Figure size 432x288 with 1 Axes>"
      ]
     },
     "metadata": {
      "needs_background": "light"
     },
     "output_type": "display_data"
    }
   ],
   "source": [
    "evaluate_model('Frostbite-v0', 40, '/Users/mateusz/Downloads/epoch-42/model', # 6624\n",
    "               output_type='argmax', preprocess_func=preprocess, recorded=False)"
   ]
  },
  {
   "cell_type": "code",
   "execution_count": 36,
   "id": "correct-ready",
   "metadata": {},
   "outputs": [],
   "source": [
    "def evaluate_model_with_seeds(env_name: str, seeds: List[int], model_path: str, output_type: str,\n",
    "                              preprocess_func: Callable, max_steps: int = 10000):\n",
    "    envs = []\n",
    "    obses = []\n",
    "    dones = np.full(len(seeds), False)\n",
    "    count = 0\n",
    "    rewards = np.zeros(len(seeds))\n",
    "    model = tf.keras.models.load_model(model_path)\n",
    "    tf.random.set_seed(seeds[0])\n",
    "    \n",
    "    for seed in seeds:\n",
    "        env = gym.make(env_name)\n",
    "        env.seed(seed)\n",
    "        obs = env.reset()\n",
    "        envs.append(env)\n",
    "        obses.append(obs)\n",
    "\n",
    "    while not np.all(dones) and count < max_steps:\n",
    "        indices = np.where(~dones)[0]\n",
    "        prepr = np.array([preprocess_func(obses[i]) for i in indices])\n",
    "        action_logits = model(prepr)\n",
    "        if output_type == 'categorical':\n",
    "            actions = tf.squeeze(tf.random.categorical(action_logits, 1), axis=1)\n",
    "        elif output_type == 'argmax':\n",
    "            actions = tf.math.argmax(action_logits, axis=1)\n",
    "        else:\n",
    "            raise Exception('invalid output type')\n",
    "        for idx, action in zip(indices, actions):\n",
    "            obs, reward, done, _ = envs[idx].step(action.numpy())\n",
    "            obses[idx] = obs\n",
    "            dones[idx] = done\n",
    "            rewards[idx] += reward\n",
    "        count += 1\n",
    "\n",
    "    return list(zip(seeds, rewards))"
   ]
  },
  {
   "cell_type": "code",
   "execution_count": 9,
   "id": "enormous-guyana",
   "metadata": {
    "scrolled": true
   },
   "outputs": [
    {
     "name": "stdout",
     "output_type": "stream",
     "text": [
      "WARNING:tensorflow:No training configuration found in save file, so the model was *not* compiled. Compile it manually.\n"
     ]
    },
    {
     "data": {
      "text/plain": [
       "[(123, 19.46622321246251), (44, 218.57011511168776), (56, 252.32070182359917)]"
      ]
     },
     "execution_count": 9,
     "metadata": {},
     "output_type": "execute_result"
    }
   ],
   "source": [
    "evaluate_model_with_seeds('LunarLander-v2', [123, 44, 56], '/Users/mateusz/Downloads/epoch-32/model',\n",
    "               output_type='categorical', preprocess_func=lambda x: x)"
   ]
  },
  {
   "cell_type": "code",
   "execution_count": 38,
   "id": "rural-original",
   "metadata": {},
   "outputs": [
    {
     "name": "stdout",
     "output_type": "stream",
     "text": [
      "WARNING:tensorflow:No training configuration found in save file, so the model was *not* compiled. Compile it manually.\n"
     ]
    },
    {
     "data": {
      "text/plain": [
       "[(7, 3170.0), (8, 1240.0), (9, 2980.0), (10, 1200.0), (11, 2410.0)]"
      ]
     },
     "execution_count": 38,
     "metadata": {},
     "output_type": "execute_result"
    }
   ],
   "source": [
    "evaluate_model_with_seeds('Frostbite-v0', [7,8,9,10,11], '/Users/mateusz/Downloads/epoch-40/model',\n",
    "               output_type='argmax', preprocess_func=preprocess)"
   ]
  },
  {
   "cell_type": "code",
   "execution_count": 40,
   "id": "changing-finance",
   "metadata": {},
   "outputs": [
    {
     "name": "stdout",
     "output_type": "stream",
     "text": [
      "WARNING:tensorflow:No training configuration found in save file, so the model was *not* compiled. Compile it manually.\n"
     ]
    },
    {
     "name": "stderr",
     "output_type": "stream",
     "text": [
      "MovieWriter ffmpeg unavailable; using Pillow instead.\n"
     ]
    },
    {
     "data": {
      "text/plain": [
       "3170.0"
      ]
     },
     "execution_count": 40,
     "metadata": {},
     "output_type": "execute_result"
    },
    {
     "data": {
      "image/png": "[encoded data removed]",
      "text/plain": [
       "<Figure size 432x288 with 1 Axes>"
      ]
     },
     "metadata": {
      "needs_background": "light"
     },
     "output_type": "display_data"
    }
   ],
   "source": [
    "evaluate_model('Frostbite-v0', 7, '/Users/mateusz/Downloads/epoch-40/model',\n",
    "               output_type='argmax', preprocess_func=preprocess, recorded=True)"
   ]
  }
 ],
 "metadata": {
  "kernelspec": {
   "display_name": "Python 3",
   "language": "python",
   "name": "python3"
  },
  "language_info": {
   "codemirror_mode": {
    "name": "ipython",
    "version": 3
   },
   "file_extension": ".py",
   "mimetype": "text/x-python",
   "name": "python",
   "nbconvert_exporter": "python",
   "pygments_lexer": "ipython3",
   "version": "3.8.8"
  }
 },
 "nbformat": 4,
 "nbformat_minor": 5
}
